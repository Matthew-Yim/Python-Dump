{
 "cells": [
  {
   "cell_type": "code",
   "execution_count": 19,
   "id": "initial_id",
   "metadata": {
    "collapsed": true,
    "ExecuteTime": {
     "end_time": "2024-04-02T15:46:12.869586100Z",
     "start_time": "2024-04-02T15:46:12.834585700Z"
    }
   },
   "outputs": [
    {
     "name": "stdout",
     "output_type": "stream",
     "text": [
      "month: 0, initial value: 6647.685, interest: 47.685\n",
      "Year end: 0.0, interest: 47.685\n",
      "month: 1, initial value: 6292.824524125001, interest: 45.139524125\n",
      "month: 2, initial value: 5935.400181311804, interest: 42.57565718680313\n",
      "month: 3, initial value: 5575.393447621782, interest: 39.993266309977784\n",
      "month: 4, initial value: 5212.78566528085, interest: 37.39221765906738\n",
      "month: 5, initial value: 4847.558041712504, interest: 34.77237643165414\n",
      "month: 6, initial value: 4479.691648563877, interest: 32.13360685137284\n",
      "month: 7, initial value: 4109.167420724751, interest: 29.475772160874012\n",
      "month: 8, initial value: 3735.966155339487, interest: 26.798734614736322\n",
      "month: 9, initial value: 3360.068510811815, interest: 24.102355472327798\n",
      "month: 10, initial value: 2981.4550058024306, interest: 21.38649499061536\n",
      "month: 11, initial value: 2600.1060182193532, interest: 18.651012416922562\n",
      "month: 12, initial value: 2216.001784200988, interest: 15.895765981634826\n",
      "Year end: 1.0, interest: 416.00178420098615\n",
      "month: 13, initial value: 1829.12239709184, interest: 13.120612890852136\n",
      "month: 14, initial value: 1439.4478064108284, interest: 10.325409318988543\n",
      "month: 15, initial value: 1046.9578168121466, interest: 7.510010401318236\n",
      "month: 16, initial value: 651.6320870386144, interest: 4.674270226467759\n",
      "month: 17, initial value: 253.45012886746835, interest: 1.8180418288539888\n",
      "month: 18, initial value: -147.6086939514642, interest: -1.0588228189325413\n"
     ]
    }
   ],
   "source": [
    "\n",
    "initial_loan = 7000\n",
    "apr = 0.0867\n",
    "\n",
    "def interest(value):\n",
    "    return (value * apr)/12\n",
    "\n",
    "def monthly_deduction(payment, initial_value):\n",
    "    month = 0\n",
    "    interest_total = 0\n",
    "    while initial_value > 0:\n",
    "        if initial_value < 100:\n",
    "            print(\"remainding value: \", initial_value)\n",
    "        initial_value = initial_value - payment\n",
    "        interest_value = interest(initial_value)\n",
    "        initial_value = initial_value + interest_value\n",
    "        print(f\"month: {month}, initial value: {initial_value}, interest: {interest_value}\")\n",
    "        interest_total += interest_value\n",
    "        if month % 12 == 0:\n",
    "            year = month / 12\n",
    "            print(f\"Year end: {year}, interest: {interest_total}\")\n",
    "        month+=1\n",
    "monthly_deduction(400, initial_loan)"
   ]
  },
  {
   "cell_type": "code",
   "outputs": [],
   "source": [
    "monthly_deduction(150, initial_loan)"
   ],
   "metadata": {
    "collapsed": false,
    "ExecuteTime": {
     "end_time": "2024-04-02T15:27:55.390157400Z",
     "start_time": "2024-04-02T15:27:55.361151400Z"
    }
   },
   "id": "c07ab83d3bdbf53a",
   "execution_count": 2
  },
  {
   "cell_type": "code",
   "outputs": [
    {
     "name": "stdout",
     "output_type": "stream",
     "text": [
      "Hello\n"
     ]
    }
   ],
   "source": [
    "print(\"Hello\")"
   ],
   "metadata": {
    "collapsed": false,
    "ExecuteTime": {
     "end_time": "2024-04-02T15:28:26.609466700Z",
     "start_time": "2024-04-02T15:28:26.569468100Z"
    }
   },
   "id": "20a3f52352b5d776",
   "execution_count": 4
  },
  {
   "cell_type": "code",
   "outputs": [],
   "source": [
    "1160\n",
    "4265.88\n",
    "3486.78\n",
    "8911.66"
   ],
   "metadata": {
    "collapsed": false
   },
   "id": "769e6d1d88b4e3e4"
  },
  {
   "cell_type": "code",
   "outputs": [
    {
     "name": "stdout",
     "output_type": "stream",
     "text": [
      "Year: 0, Amount: 85000, Principal: 4250.0, Retire: 4568.75\n",
      "Year: 1, Amount: 87124.99999999999, Principal: 8606.25, Retire: 9251.71875\n",
      "Year: 2, Amount: 89303.12499999997, Principal: 13071.40625, Retire: 14051.76171875\n",
      "Year: 3, Amount: 91535.70312499996, Principal: 17648.19140625, Retire: 18971.805761718748\n",
      "Year: 4, Amount: 93824.09570312494, Principal: 22339.396191406246, Retire: 24014.850905761712\n",
      "Year: 5, Amount: 96169.69809570306, Principal: 27147.8810961914, Retire: 29183.97217840575\n",
      "Year: 6, Amount: 98573.94054809563, Principal: 32076.57812359618, Retire: 34482.32148286589\n",
      "Year: 7, Amount: 101038.28906179802, Principal: 37128.49257668608, Retire: 39913.12951993754\n",
      "Year: 8, Amount: 103564.24628834295, Principal: 42306.70489110323, Retire: 45479.707757935976\n",
      "Year: 9, Amount: 106153.35244555151, Principal: 47614.37251338081, Retire: 51185.45045188437\n",
      "Year: 10, Amount: 108807.1862566903, Principal: 53054.73182621533, Retire: 57033.836713181474\n",
      "Year: 11, Amount: 111527.36591310755, Principal: 58631.10012187071, Retire: 63028.43263101101\n",
      "Year: 12, Amount: 114315.55006093523, Principal: 64346.87762491747, Retire: 69172.89344678627\n",
      "Year: 13, Amount: 117173.4388124586, Principal: 70205.5495655404, Retire: 75470.96578295591\n",
      "Year: 14, Amount: 120102.77478277005, Principal: 76210.6883046789, Retire: 81926.48992752981\n",
      "Year: 15, Amount: 123105.3441523393, Principal: 82365.95551229587, Retire: 88543.40217571806\n",
      "Year: 16, Amount: 126182.97775614777, Principal: 88675.10440010326, Retire: 95325.737230111\n",
      "Year: 17, Amount: 129337.55220005145, Principal: 95141.98201010583, Retire: 102277.63066086377\n",
      "Year: 18, Amount: 132570.99100505273, Principal: 101770.53156035846, Retire: 109403.32142738534\n",
      "Year: 19, Amount: 135885.26578017903, Principal: 108564.7948493674, Retire: 116707.15446306995\n",
      "Year: 20, Amount: 139282.3974246835, Principal: 115528.91472060158, Retire: 124193.5833246467\n",
      "Year: 21, Amount: 142764.45736030058, Principal: 122667.1375886166, Retire: 131867.17290776284\n",
      "Year: 22, Amount: 146333.56879430808, Principal: 129983.81602833202, Retire: 139732.60223045692\n",
      "Year: 23, Amount: 149991.90801416576, Principal: 137483.4114290403, Retire: 147794.66728621832\n",
      "Year: 24, Amount: 153741.7057145199, Principal: 145170.4967147663, Retire: 156058.28396837378\n",
      "Year: 25, Amount: 157585.24835738286, Principal: 153049.75913263546, Retire: 164528.49106758312\n",
      "Year: 26, Amount: 161524.87956631742, Principal: 161126.00311095134, Retire: 173210.45334427268\n",
      "Year: 27, Amount: 165563.00155547535, Principal: 169404.15318872512, Retire: 182109.4646778795\n",
      "Year: 28, Amount: 169702.0765943622, Principal: 177889.25701844323, Retire: 191230.95129482646\n"
     ]
    }
   ],
   "source": [
    "base = 85000\n",
    "principal = base * 0.05\n",
    "retire = principal * 1.075\n",
    "for i in range(29):\n",
    "    print (f\"Year: {i}, Amount: {base}, Principal: {principal}, Retire: {retire}\")\n",
    "    base = base * 1.025\n",
    "    principal = principal + base * 0.05\n",
    "    retire = principal * 1.075"
   ],
   "metadata": {
    "collapsed": false,
    "ExecuteTime": {
     "end_time": "2024-04-22T13:54:01.698001400Z",
     "start_time": "2024-04-22T13:54:01.667953700Z"
    }
   },
   "id": "2657673bf70470a0",
   "execution_count": 6
  },
  {
   "cell_type": "code",
   "outputs": [
    {
     "ename": "ModuleNotFoundError",
     "evalue": "No module named 'pandas'",
     "output_type": "error",
     "traceback": [
      "\u001B[1;31m---------------------------------------------------------------------------\u001B[0m",
      "\u001B[1;31mModuleNotFoundError\u001B[0m                       Traceback (most recent call last)",
      "Cell \u001B[1;32mIn[1], line 1\u001B[0m\n\u001B[1;32m----> 1\u001B[0m \u001B[38;5;28;01mimport\u001B[39;00m \u001B[38;5;21;01mpandas\u001B[39;00m \u001B[38;5;28;01mas\u001B[39;00m \u001B[38;5;21;01mpd\u001B[39;00m\n\u001B[0;32m      2\u001B[0m \u001B[38;5;28;01mimport\u001B[39;00m \u001B[38;5;21;01mpyodbc\u001B[39;00m\n\u001B[0;32m      4\u001B[0m \u001B[38;5;66;03m# Create a connection string\u001B[39;00m\n",
      "\u001B[1;31mModuleNotFoundError\u001B[0m: No module named 'pandas'"
     ]
    }
   ],
   "source": [
    "import pandas as pd\n",
    "import pyodbc\n",
    "\n",
    "# Create a connection string\n",
    "conn_str = (\n",
    "    r'DRIVER={ODBC Driver 17 for SQL Server};'\n",
    "    r'SERVER=your_server_name;'\n",
    "    r'DATABASE=your_database_name;'\n",
    "    r'UID=your_username;'\n",
    "    r'PWD=your_password'\n",
    ")\n",
    "\n",
    "# Create a connection\n",
    "conn = pyodbc.connect(conn_str)\n",
    "\n",
    "# Define the SQL query\n",
    "query = \"SELECT * FROM your_table_name\"\n",
    "\n",
    "# Define the chunk size\n",
    "chunk_size = 50000\n",
    "\n",
    "# Read the data in chunks and write each chunk to a CSV file\n",
    "for i, chunk in enumerate(pd.read_sql(query, conn, chunksize=chunk_size)):\n",
    "    # Construct the filename for each chunk\n",
    "    filename = f\"output_chunk_{i}.csv\"\n",
    "    # Write the chunk to a CSV file\n",
    "    chunk.to_csv(filename, index=False)"
   ],
   "metadata": {
    "collapsed": false,
    "ExecuteTime": {
     "end_time": "2024-04-23T18:15:11.937661800Z",
     "start_time": "2024-04-23T18:15:11.224032600Z"
    }
   },
   "id": "e6b0ca973d94d31c",
   "execution_count": 1
  },
  {
   "cell_type": "code",
   "outputs": [],
   "source": [],
   "metadata": {
    "collapsed": false,
    "ExecuteTime": {
     "end_time": "2024-04-23T18:15:11.960662500Z",
     "start_time": "2024-04-23T18:15:11.939661500Z"
    }
   },
   "id": "f0c5ced0cab42e1"
  },
  {
   "cell_type": "code",
   "outputs": [],
   "source": [],
   "metadata": {
    "collapsed": false
   },
   "id": "fc99f8df7fa40d10"
  }
 ],
 "metadata": {
  "kernelspec": {
   "display_name": "Python 3",
   "language": "python",
   "name": "python3"
  },
  "language_info": {
   "codemirror_mode": {
    "name": "ipython",
    "version": 2
   },
   "file_extension": ".py",
   "mimetype": "text/x-python",
   "name": "python",
   "nbconvert_exporter": "python",
   "pygments_lexer": "ipython2",
   "version": "2.7.6"
  }
 },
 "nbformat": 4,
 "nbformat_minor": 5
}
