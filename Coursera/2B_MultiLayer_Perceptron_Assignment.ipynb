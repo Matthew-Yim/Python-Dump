{
 "cells": [
  {
   "cell_type": "markdown",
   "source": [
    "# Multilayer Logistic Regression"
   ],
   "metadata": {
    "collapsed": false
   },
   "id": "d49f50ec3b8e8a01"
  },
  {
   "cell_type": "code",
   "execution_count": 1,
   "id": "initial_id",
   "metadata": {
    "collapsed": true,
    "ExecuteTime": {
     "end_time": "2024-03-28T14:15:51.629866500Z",
     "start_time": "2024-03-28T14:15:38.458663800Z"
    }
   },
   "outputs": [],
   "source": [
    "# Imports \n",
    "import numpy as np\n",
    "import torch\n",
    "import torch.nn.functional as F\n",
    "from torchvision import datasets, transforms\n",
    "from tqdm.notebook import tqdm"
   ]
  },
  {
   "cell_type": "code",
   "outputs": [],
   "source": [
    "# Load the data\n",
    "mnist_train = datasets.MNIST(root=\"./datasets\", train=True, transform=transforms.ToTensor(), download=True)\n",
    "mnist_test = datasets.MNIST(root=\"./datasets\", train=False, transform=transforms.ToTensor(), download=True)\n",
    "train_loader = torch.utils.data.DataLoader(mnist_train, batch_size=100, shuffle=True)\n",
    "test_loader = torch.utils.data.DataLoader(mnist_test, batch_size=100, shuffle=False)\n",
    "\n",
    "# By shuffling the training data, the model is forced to learn the underlying patterns in the data rather than memorizing the order of the samples\n",
    "# Test set should remain in its original order to provide a consistent and reliable evaluation of the model's performance"
   ],
   "metadata": {
    "collapsed": false,
    "ExecuteTime": {
     "end_time": "2024-03-28T14:16:02.707318600Z",
     "start_time": "2024-03-28T14:16:02.598293700Z"
    }
   },
   "id": "862aa47518295813",
   "execution_count": 2
  },
  {
   "cell_type": "code",
   "outputs": [],
   "source": [
    "# Training \n",
    "# Initialize parameters\n",
    "W1 = torch.randn(784, 500) / np.sqrt(784) # First layer weights\n",
    "W1.requires_grad_()\n",
    "b1 = torch.zeros(500, requires_grad=True) # First layer biases\n",
    "\n",
    "W2 = torch.randn(500, 10) / np.sqrt(500) # Second layer weights\n",
    "W2.requires_grad_()\n",
    "b2 = torch.zeros(10, requires_grad=True) # Second layer biases"
   ],
   "metadata": {
    "collapsed": false,
    "ExecuteTime": {
     "end_time": "2024-03-28T14:16:05.193715700Z",
     "start_time": "2024-03-28T14:16:05.172715500Z"
    }
   },
   "id": "bac3c408e9017585",
   "execution_count": 3
  },
  {
   "cell_type": "code",
   "outputs": [],
   "source": [
    "# Optimizer\n",
    "optimizer = torch.optim.SGD([W1, b1, W2, b2], lr=0.1)"
   ],
   "metadata": {
    "collapsed": false,
    "ExecuteTime": {
     "end_time": "2024-03-28T14:16:14.537417200Z",
     "start_time": "2024-03-28T14:16:14.521416300Z"
    }
   },
   "id": "fb032f9491a39a1e",
   "execution_count": 4
  },
  {
   "cell_type": "code",
   "outputs": [
    {
     "data": {
      "text/plain": "  0%|          | 0/600 [00:00<?, ?it/s]",
      "application/vnd.jupyter.widget-view+json": {
       "version_major": 2,
       "version_minor": 0,
       "model_id": "f5468c9d63e24772b08982c8690893f4"
      }
     },
     "metadata": {},
     "output_type": "display_data"
    }
   ],
   "source": [
    "# Iterate through train set minibatches\n",
    "for images, labels in tqdm(train_loader):\n",
    "    # Zero out the gradients\n",
    "    optimizer.zero_grad()\n",
    "    \n",
    "    # Forward pass\n",
    "    x = images.view(-1, 28 * 28)\n",
    "    h1 = torch.matmul(x, W1) + b1 # First layer output\n",
    "    x1 = F.relu(h1) # Apply non-linear activation (ReLU)\n",
    "    y = torch.matmul(x1, W2) + b2 # Second layer output\n",
    "    \n",
    "    cross_entropy = F.cross_entropy(y, labels)\n",
    "    \n",
    "    # Backward Pass\n",
    "    cross_entropy.backward()\n",
    "    optimizer.step()"
   ],
   "metadata": {
    "collapsed": false,
    "ExecuteTime": {
     "end_time": "2024-03-28T14:16:30.761243500Z",
     "start_time": "2024-03-28T14:16:20.136447200Z"
    }
   },
   "id": "efd6778ccdec9515",
   "execution_count": 5
  },
  {
   "cell_type": "code",
   "outputs": [
    {
     "data": {
      "text/plain": "  0%|          | 0/100 [00:00<?, ?it/s]",
      "application/vnd.jupyter.widget-view+json": {
       "version_major": 2,
       "version_minor": 0,
       "model_id": "5b32f21ac4884832ad52b869d5d21cb5"
      }
     },
     "metadata": {},
     "output_type": "display_data"
    },
    {
     "name": "stdout",
     "output_type": "stream",
     "text": [
      "Test accuracy: 0.9230999946594238\n"
     ]
    }
   ],
   "source": [
    "# Testing\n",
    "correct = 0\n",
    "total = len(mnist_test)\n",
    "with torch.no_grad():\n",
    "    # Iterate through test set minibatchs\n",
    "    for images, labels in tqdm(test_loader):\n",
    "        # Forward pass\n",
    "        x = images.view(-1, 28 * 28)\n",
    "        h1 = torch.matmul(x, W1) + b1\n",
    "        x1 = F.relu(h1)\n",
    "        y = torch.matmul(x1, W2) + b2\n",
    "        predictions = torch.argmax(y, dim=1)\n",
    "        correct += torch.sum((predictions == labels).float())\n",
    "        \n",
    "print('Test accuracy: {}'.format(correct / total))"
   ],
   "metadata": {
    "collapsed": false,
    "ExecuteTime": {
     "end_time": "2024-03-28T14:16:45.473934200Z",
     "start_time": "2024-03-28T14:16:43.760956Z"
    }
   },
   "id": "dd8947c618576507",
   "execution_count": 6
  },
  {
   "cell_type": "markdown",
   "source": [
    "Test accuracy for 784->256->10: 0.9194999933242798\n",
    "Test accuracy for 784->500->10: 0.9230999946594238"
   ],
   "metadata": {
    "collapsed": false
   },
   "id": "888d343081591a5a"
  },
  {
   "cell_type": "markdown",
   "source": [
    "Parameters (784->256->10): [784 * 256]Layer1 + 256Bias1 + [256 * 10] + 10Bias2 = 203,530\n",
    "Parameters (784->500->10): [784 * 500]Layer1 + 500Bias1 + [500 * 10] + 10Bias2 = 397,510"
   ],
   "metadata": {
    "collapsed": false
   },
   "id": "87d65aa5c4e33d0a"
  }
 ],
 "metadata": {
  "kernelspec": {
   "display_name": "Python 3",
   "language": "python",
   "name": "python3"
  },
  "language_info": {
   "codemirror_mode": {
    "name": "ipython",
    "version": 2
   },
   "file_extension": ".py",
   "mimetype": "text/x-python",
   "name": "python",
   "nbconvert_exporter": "python",
   "pygments_lexer": "ipython2",
   "version": "2.7.6"
  }
 },
 "nbformat": 4,
 "nbformat_minor": 5
}
