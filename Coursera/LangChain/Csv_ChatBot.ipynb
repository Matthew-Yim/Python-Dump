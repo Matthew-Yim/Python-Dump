{
 "cells": [
  {
   "cell_type": "code",
   "outputs": [],
   "source": [
    "## Data Ingestion\n",
    "from langchain_community.document_loaders.csv_loader import CSVLoader\n",
    "import os\n",
    "\n",
    "tables = []\n",
    "directory = '/path/to/your/directory'\n",
    "for filename in os.listdir(directory):\n",
    "    if filename.endswith('.csv'):\n",
    "        loader = CSVLoader(filename)\n",
    "        data = loader.load()\n",
    "        tables.append(data)\n"
   ],
   "metadata": {
    "collapsed": false
   },
   "id": "3a4e34090d0ecb8a"
  },
  {
   "cell_type": "code",
   "outputs": [],
   "source": [
    "from langchain_text_splitters import RecursiveCharacterTextSplitter\n",
    "## Data Splitting\n",
    "# from langchain_text_splitters import CharacterTextSplitter\n",
    "from pathlib import Path\n",
    "from langchain_community.document_loaders import CSVLoader\n",
    "\n",
    "# Specify the directory containing your text files\n",
    "directory_path = Path('path/to/your/directory')\n",
    "\n",
    "# Use glob to find all text files in the directory\n",
    "csv_files = list(directory_path.glob('*.csv'))\n",
    "\n",
    "# Initialize an empty list to hold the TextLoader instances\n",
    "loaders = []\n",
    "\n",
    "# Loop through each text file and create a TextLoader instance for each\n",
    "for file_path in csv_files:\n",
    "    loaders.append(CSVLoader(str(file_path)))\n",
    "\n",
    "# Now, 'loaders' contains TextLoader instances for all text files in the directory\n",
    "\n",
    "docs = []\n",
    "for loader in loaders:\n",
    "    docs.extend(loader.load())\n",
    "text_splitter = RecursiveCharacterTextSplitter(chunk_size=10000)\n",
    "docs = text_splitter.split_documents(docs)"
   ],
   "metadata": {
    "collapsed": false
   },
   "id": "7133cbd79cf721ee"
  },
  {
   "cell_type": "code",
   "outputs": [
    {
     "name": "stdout",
     "output_type": "stream",
     "text": [
      "C:\\Users\\matthew.yim\\Desktop\\Code\\Sample_CSV\n"
     ]
    },
    {
     "name": "stderr",
     "output_type": "stream",
     "text": [
      "100%|██████████| 3/3 [00:00<00:00, 86.93it/s]\n"
     ]
    }
   ],
   "source": [
    "from langchain.document_loaders import DirectoryLoader\n",
    "from langchain.document_loaders import CSVLoader\n",
    "\n",
    "from langchain_community.llms import Ollama\n",
    "from langchain_community.embeddings import OllamaEmbeddings\n",
    "from langchain_community.vectorstores import FAISS\n",
    "from pathlib import Path\n",
    "\n",
    "# Specify the directory containing your text files\n",
    "\n",
    "\n",
    "directory_path = Path(r'C:\\Users\\matthew.yim\\Desktop\\Code\\Sample_CSV')\n",
    "print(directory_path)\n",
    "loader = DirectoryLoader(path=directory_path, glob =\"**/*.csv\", use_multithreading=True, show_progress=True, loader_cls=CSVLoader)\n",
    "docs = loader.load()\n",
    "# \n",
    "llm = Ollama(model=\"llama3\")\n",
    "\n",
    "## FAISS Vector Database\n",
    "embeddings = OllamaEmbeddings(model=\"llama3\")\n",
    "database = FAISS.from_documents(docs, embeddings)\n",
    "print(database.index.ntotal)"
   ],
   "metadata": {
    "collapsed": false,
    "is_executing": true,
    "ExecuteTime": {
     "start_time": "2024-04-26T17:52:39.627729700Z"
    }
   },
   "id": "b586688e6e90c9a8",
   "execution_count": null
  },
  {
   "cell_type": "markdown",
   "source": [
    "Implementation for streamlit app"
   ],
   "metadata": {
    "collapsed": false
   },
   "id": "98fa71e5787e72f9"
  },
  {
   "cell_type": "code",
   "execution_count": null,
   "id": "initial_id",
   "metadata": {
    "collapsed": true
   },
   "outputs": [],
   "source": [
    "from fastapi import FastAPI\n",
    "from langchain.prompts import ChatPromptTemplate\n",
    "from langserve import add_routes\n",
    "import uvicorn\n",
    "import os\n",
    "from langchain_community.llms import Ollama\n",
    "\n",
    "app = FastAPI(\n",
    "    title=\"Langchain Server\",\n",
    "    version=\"1.0\",\n",
    "    description=\"A simple API Server for LangChain\"\n",
    ")\n",
    "\n",
    "llm = Ollama(model=\"llama3\")\n",
    "\n",
    "prompt1=ChatPromptTemplate.from_template(\"Write me an essay about {topic} with 100 words\")\n",
    "\n",
    "add_routes(\n",
    "    app,\n",
    "    prompt1|llm,\n",
    "    path=\"/essay\"\n",
    ")\n",
    "\n",
    "if __name__ == \"__main__\":\n",
    "    uvicorn.run(app, host=\"localhost\", port=8000)\n"
   ]
  }
 ],
 "metadata": {
  "kernelspec": {
   "display_name": "Python 3",
   "language": "python",
   "name": "python3"
  },
  "language_info": {
   "codemirror_mode": {
    "name": "ipython",
    "version": 2
   },
   "file_extension": ".py",
   "mimetype": "text/x-python",
   "name": "python",
   "nbconvert_exporter": "python",
   "pygments_lexer": "ipython2",
   "version": "2.7.6"
  }
 },
 "nbformat": 4,
 "nbformat_minor": 5
}
