{
 "cells": [
  {
   "cell_type": "code",
   "execution_count": 1,
   "id": "initial_id",
   "metadata": {
    "collapsed": true,
    "ExecuteTime": {
     "end_time": "2024-03-04T20:20:02.227467Z",
     "start_time": "2024-03-04T20:19:49.727829100Z"
    }
   },
   "outputs": [
    {
     "name": "stdout",
     "output_type": "stream",
     "text": [
      "     ProjectID ProjectCode                                        ProjectName  \\\n",
      "0       148468     24-0001                        XCEL ENERGY 7618 RIMBLEY RD   \n",
      "1       148469    24-30419         XCEL ENERGY 7618 RIMBLEY RD - Woodbury, MN   \n",
      "2       148470           A                   Gas + Electrical Design Services   \n",
      "3       148471          B3                                           Telecomm   \n",
      "4       148472           Z                                      Reimbursables   \n",
      "..         ...         ...                                                ...   \n",
      "995     149539           1                      Pregrading Survey and Staking   \n",
      "996     149540           2                         Royalty Survey and Mapping   \n",
      "997     149541     24-0069                                 Cascades Greengas    \n",
      "998     149542    24-30453  Noddle Companies Retracement Survey - Storm La...   \n",
      "999     149543           A                                             Survey   \n",
      "\n",
      "                 ModifyDate                             ModifyBy  \\\n",
      "0   2024-01-02 07:06:21.677  Cosential <> Unanet A/E Integration   \n",
      "1   2024-01-02 10:45:57.950                              tracyah   \n",
      "2   2024-01-02 09:46:21.000                              tracyah   \n",
      "3   2024-01-02 10:10:54.200                              tracyah   \n",
      "4   2024-01-02 09:46:21.000                              tracyah   \n",
      "..                      ...                                  ...   \n",
      "995 2024-02-14 16:03:12.230                               wbartz   \n",
      "996 2024-02-14 16:03:12.230                               wbartz   \n",
      "997 2024-01-09 08:01:20.537  Cosential <> Unanet A/E Integration   \n",
      "998 2024-01-09 12:09:26.663                        JenniferFahey   \n",
      "999 2024-02-07 12:55:44.200                        JenniferFahey   \n",
      "\n",
      "     ProjectLevel  ParentProjectID ProjectStart ProjectEnd BLProjectStart  \\\n",
      "0               1              NaN   2024-01-02 2024-04-02     2024-01-02   \n",
      "1               1              NaN   2024-01-02 2024-04-02     2024-01-02   \n",
      "2               2         148469.0   2024-01-02 2024-04-02            NaT   \n",
      "3               3         148470.0   2024-01-02 2024-04-02            NaT   \n",
      "4               2         148469.0   2024-01-02        NaT            NaT   \n",
      "..            ...              ...          ...        ...            ...   \n",
      "995             4         149538.0   2021-11-23 2022-12-31            NaT   \n",
      "996             4         149538.0   2021-11-23 2022-12-31            NaT   \n",
      "997             1              NaN   2024-01-09 2024-04-30     2024-01-09   \n",
      "998             1              NaN   2024-01-08 2024-01-08     2024-01-09   \n",
      "999             2         149542.0   2024-01-08 2024-01-08            NaT   \n",
      "\n",
      "     ... OCCBudget2 ICCBudget2 BLODCBudget2 BLOCCBudget2 BLICCBudget2  \\\n",
      "0    ...          0          0            0            0            0   \n",
      "1    ...          0          0            0            0            0   \n",
      "2    ...          0          0            0            0            0   \n",
      "3    ...          0          0            0            0            0   \n",
      "4    ...          0          0            0            0            0   \n",
      "..   ...        ...        ...          ...          ...          ...   \n",
      "995  ...          0          0            0            0            0   \n",
      "996  ...          0          0            0            0            0   \n",
      "997  ...          0          0            0            0            0   \n",
      "998  ...          0          0            0            0            0   \n",
      "999  ...          0          0            0            0            0   \n",
      "\n",
      "     MilestoneStartDate  MilestoneEndDate  MilestoneFrequency  \\\n",
      "0                   NaN               NaN                 NaN   \n",
      "1                   NaN               NaN                 NaN   \n",
      "2                   NaN               NaN                 NaN   \n",
      "3                   NaN               NaN                 NaN   \n",
      "4                   NaN               NaN                 NaN   \n",
      "..                  ...               ...                 ...   \n",
      "995                 NaN               NaN                 NaN   \n",
      "996                 NaN               NaN                 NaN   \n",
      "997                 NaN               NaN                 NaN   \n",
      "998                 NaN               NaN                 NaN   \n",
      "999                 NaN               NaN                 NaN   \n",
      "\n",
      "     MilestoneCustomFrequency  MilestoneCustomFrequencyUnit  \n",
      "0                         NaN                           NaN  \n",
      "1                         NaN                           NaN  \n",
      "2                         NaN                           NaN  \n",
      "3                         NaN                           NaN  \n",
      "4                         NaN                           NaN  \n",
      "..                        ...                           ...  \n",
      "995                       NaN                           NaN  \n",
      "996                       NaN                           NaN  \n",
      "997                       NaN                           NaN  \n",
      "998                       NaN                           NaN  \n",
      "999                       NaN                           NaN  \n",
      "\n",
      "[1000 rows x 113 columns]\n"
     ]
    }
   ],
   "source": [
    "import pandas as pd \n",
    "import numpy as np\n",
    "from sklearn.metrics import mean_absolute_error\n",
    "from sklearn.model_selection import train_test_split\n",
    "from sklearn.tree import DecisionTreeRegressor\n",
    "\n",
    "#Path of the file to read\n",
    "isg_file_path = \"C:\\\\Users\\\\matthew.yim\\\\Downloads\\\\isg_infocus_dbo_projects_top_1000.xlsx\"\n",
    "\n",
    "isg_data_excel_file = pd.ExcelFile(isg_file_path)\n",
    "isg_data = isg_data_excel_file.parse('Sheet1')\n",
    "print(isg_data)"
   ]
  },
  {
   "cell_type": "code",
   "outputs": [
    {
     "name": "stdout",
     "output_type": "stream",
     "text": [
      "113\n"
     ]
    }
   ],
   "source": [
    "# Load Columns as features\n",
    "features = list(isg_data)\n",
    "print(len(features))"
   ],
   "metadata": {
    "collapsed": false,
    "ExecuteTime": {
     "end_time": "2024-03-04T20:20:15.800906Z",
     "start_time": "2024-03-04T20:20:15.780907100Z"
    }
   },
   "id": "db0411f99b6efdda",
   "execution_count": 2
  },
  {
   "cell_type": "code",
   "outputs": [
    {
     "name": "stdout",
     "output_type": "stream",
     "text": [
      "['JCRateID', 'JCMarkupTypesUsedID', 'PayRateID', 'OvrBillRateID', 'InvAcctID', 'PlanNotes', 'TSCmtTempID', 'LCGrpID', 'MilestoneStartDate', 'MilestoneEndDate', 'MilestoneFrequency', 'MilestoneCustomFrequency', 'MilestoneCustomFrequencyUnit']\n",
      "100\n"
     ]
    }
   ],
   "source": [
    "# Filter Clean Dataset\n",
    "\n",
    "# Replace all \"NULL\" values with python alternative NaN\n",
    "isg_data.replace(\"NULL\", np.nan, inplace=True)\n",
    "\n",
    "# Drop columns where all values are None\n",
    "cleaned_isg_data = isg_data.dropna(axis=1, how='all', inplace=False)\n",
    "clean_features = list(cleaned_isg_data)\n",
    "temp = set(clean_features)\n",
    "deleted_features = [x for x in features if x not in temp]\n",
    "print(deleted_features)\n",
    "print(len(clean_features))"
   ],
   "metadata": {
    "collapsed": false,
    "ExecuteTime": {
     "end_time": "2024-03-04T20:22:25.542357700Z",
     "start_time": "2024-03-04T20:22:25.517357900Z"
    }
   },
   "id": "7a32c4bfd92ab9e7",
   "execution_count": 12
  },
  {
   "cell_type": "code",
   "outputs": [
    {
     "name": "stdout",
     "output_type": "stream",
     "text": [
      "0\n",
      "1000\n",
      "['ProjectID', 'ProjectCode', 'ProjectName', 'ModifyDate', 'ModifyBy', 'ProjectLevel', 'ParentProjectID', 'ProjectStart', 'ProjectEnd', 'BLProjectStart', 'BLProjectEnd', 'TimeStart', 'TimeEnd', 'ExpStart', 'ExpEnd', 'BillRateID', 'OHMult', 'DPEMult', 'PRMult', 'JCApplyMUOnPremium', 'UseMultsForBill', 'UseMultsForJC', 'IsBillTermsNode', 'LaborContractCap', 'ODCContractCap', 'OCCContractCap', 'FixedFeePC', 'LaborBudget', 'LaborBudgetPC', 'BLLaborBudget', 'ODCBudget', 'ICCBudget', 'OCCBudget', 'BLODCBudget', 'BLOCCBudget', 'BLICCBudget', 'HoursBudget', 'BLHoursBudget', 'CreateBy', 'CreateDate', 'BillApplyMUOnPremium', 'IsBottom', 'IsODCCharge', 'IsOCCCharge', 'IsICCCharge', 'LaborOwnerPC', 'ICCOwnerPC', 'ODCOwnerPC', 'OCCOwnerPC', 'IsRollUp', 'ProjectPath', 'ProjectLongName', 'LevelOneProjectID', 'LaborOverallCap', 'ODCOverallCap', 'OCCOverallCap', 'ICCOverallCap', 'LaborOwnerCap', 'ODCOwnerCap', 'OCCOwnerCap', 'ICCOwnerCap', 'TEProjectPath', 'FactID', 'RequireETC', 'FixedFee', 'ODCBudgetPC', 'OCCBudgetPC', 'ICCBudgetPC', 'ICCFixedFeePortion', 'ICCFixedFeeCurrent', 'InvFilter', 'ODCMarkup', 'OCCMarkup', 'UseODCMU', 'UseCNSMU', 'DefaultBillStatusID', 'LaborBudgetAmountPCT', 'ODCBudgetAmountPCT', 'OCCBudgetAmountPCT', 'ICCBudgetAmountPCT', 'BLLaborBudgetAmountPCT', 'BLODCBudgetAmountPCT', 'BLOCCBudgetAmountPCT', 'BLICCBudgetAmountPCT', 'WBSInvDescript', 'LaborBudgetHrsPCT', 'BLLaborBudgetHrsPCT', 'PCTOfFee', 'LumpSum', 'FixedFeeNotes', 'LaborBudget2', 'LaborBudget3', 'BLLaborBudget2', 'BLLaborBudget3', 'ODCBudget2', 'OCCBudget2', 'ICCBudget2', 'BLODCBudget2', 'BLOCCBudget2', 'BLICCBudget2']\n"
     ]
    }
   ],
   "source": [
    "# Filter Clean Dataset\n",
    "\n",
    "# Drop Rows where any column has null value\n",
    "cleaned_filtered_isg_data = cleaned_isg_data.dropna()\n",
    "print(len(cleaned_filtered_isg_data))\n",
    "print(len(cleaned_isg_data))\n",
    "print(clean_features)"
   ],
   "metadata": {
    "collapsed": false,
    "ExecuteTime": {
     "end_time": "2024-03-04T20:20:24.137131600Z",
     "start_time": "2024-03-04T20:20:24.114131800Z"
    }
   },
   "id": "517aef0b24bca8cf",
   "execution_count": 4
  },
  {
   "cell_type": "code",
   "outputs": [],
   "source": [
    "# Load clean and filtered data into a csv file\n",
    "cleaned_isg_data.to_csv(\"C:\\\\Users\\\\matthew.yim\\\\Desktop\\\\Code\\\\EDA\\\\WordDoc_Analysis\\\\Cleaned_ISG_DATA.csv\", index=True)"
   ],
   "metadata": {
    "collapsed": false,
    "ExecuteTime": {
     "end_time": "2024-03-04T20:30:32.626925600Z",
     "start_time": "2024-03-04T20:30:32.505892Z"
    }
   },
   "id": "a66fa63dbf61def5",
   "execution_count": 17
  },
  {
   "cell_type": "code",
   "outputs": [
    {
     "name": "stdout",
     "output_type": "stream",
     "text": [
      "<class 'list'>\n",
      "99\n"
     ]
    }
   ],
   "source": [
    "print(type(clean_features))\n",
    "\n",
    "clean_features.remove(\"LaborBudget\")\n",
    "print(len(clean_features))\n",
    "\n",
    "# Create target object \"y\"\n",
    "y = cleaned_isg_data.LaborBudget\n",
    "# Create X\n",
    "X = cleaned_isg_data[clean_features]\n",
    "\n",
    "# Split into validation and training data\n",
    "X_train, X_test, y_train, y_test = train_test_split(X, y)\n"
   ],
   "metadata": {
    "collapsed": false,
    "ExecuteTime": {
     "end_time": "2024-03-04T20:25:11.200424300Z",
     "start_time": "2024-03-04T20:25:11.142423100Z"
    }
   },
   "id": "399ead4599aa2aee",
   "execution_count": 13
  },
  {
   "cell_type": "code",
   "outputs": [],
   "source": [
    "import xgboost\n",
    "from sklearn.ensemble import RandomForestRegressor\n",
    "from sklearn.model_selection import train_test_split\n",
    "from boruta import BorutaPy\n"
   ],
   "metadata": {
    "collapsed": false,
    "ExecuteTime": {
     "end_time": "2024-03-04T20:29:42.086289600Z",
     "start_time": "2024-03-04T20:29:42.044778600Z"
    }
   },
   "id": "9d9b6be4ae54a6c7",
   "execution_count": 15
  },
  {
   "cell_type": "code",
   "outputs": [
    {
     "ename": "ValueError",
     "evalue": "could not convert string to float: 'Z'",
     "output_type": "error",
     "traceback": [
      "\u001B[1;31m---------------------------------------------------------------------------\u001B[0m",
      "\u001B[1;31mValueError\u001B[0m                                Traceback (most recent call last)",
      "\u001B[1;32m~\\AppData\\Local\\Temp\\ipykernel_14784\\3109416153.py\u001B[0m in \u001B[0;36m?\u001B[1;34m()\u001B[0m\n\u001B[1;32m----> 2\u001B[1;33m \u001B[0mrcf\u001B[0m \u001B[1;33m=\u001B[0m \u001B[0mRandomForestRegressor\u001B[0m\u001B[1;33m(\u001B[0m\u001B[1;33m)\u001B[0m\u001B[1;33m\u001B[0m\u001B[1;33m\u001B[0m\u001B[0m\n\u001B[0m\u001B[0;32m      3\u001B[0m \u001B[0mrcf\u001B[0m\u001B[1;33m.\u001B[0m\u001B[0mfit\u001B[0m\u001B[1;33m(\u001B[0m\u001B[0mX_train\u001B[0m\u001B[1;33m,\u001B[0m \u001B[0my_train\u001B[0m\u001B[1;33m)\u001B[0m\u001B[1;33m\u001B[0m\u001B[1;33m\u001B[0m\u001B[0m\n\u001B[0;32m      4\u001B[0m \u001B[0mbase_score\u001B[0m \u001B[1;33m=\u001B[0m \u001B[0mrcf\u001B[0m\u001B[1;33m.\u001B[0m\u001B[0mscore\u001B[0m\u001B[1;33m(\u001B[0m\u001B[0mX_test\u001B[0m\u001B[1;33m,\u001B[0m \u001B[0my_test\u001B[0m\u001B[1;33m)\u001B[0m\u001B[1;33m\u001B[0m\u001B[1;33m\u001B[0m\u001B[0m\n\u001B[0;32m      5\u001B[0m \u001B[1;33m\u001B[0m\u001B[0m\n",
      "\u001B[1;32m~\\PycharmProjects\\Kaggle\\.venv\\lib\\site-packages\\sklearn\\base.py\u001B[0m in \u001B[0;36m?\u001B[1;34m(estimator, *args, **kwargs)\u001B[0m\n\u001B[0;32m   1470\u001B[0m                 skip_parameter_validation=(\n\u001B[0;32m   1471\u001B[0m                     \u001B[0mprefer_skip_nested_validation\u001B[0m \u001B[1;32mor\u001B[0m \u001B[0mglobal_skip_validation\u001B[0m\u001B[1;33m\u001B[0m\u001B[1;33m\u001B[0m\u001B[0m\n\u001B[0;32m   1472\u001B[0m                 )\n\u001B[0;32m   1473\u001B[0m             ):\n\u001B[1;32m-> 1474\u001B[1;33m                 \u001B[1;32mreturn\u001B[0m \u001B[0mfit_method\u001B[0m\u001B[1;33m(\u001B[0m\u001B[0mestimator\u001B[0m\u001B[1;33m,\u001B[0m \u001B[1;33m*\u001B[0m\u001B[0margs\u001B[0m\u001B[1;33m,\u001B[0m \u001B[1;33m**\u001B[0m\u001B[0mkwargs\u001B[0m\u001B[1;33m)\u001B[0m\u001B[1;33m\u001B[0m\u001B[1;33m\u001B[0m\u001B[0m\n\u001B[0m",
      "\u001B[1;32m~\\PycharmProjects\\Kaggle\\.venv\\lib\\site-packages\\sklearn\\ensemble\\_forest.py\u001B[0m in \u001B[0;36m?\u001B[1;34m(self, X, y, sample_weight)\u001B[0m\n\u001B[0;32m    359\u001B[0m         \u001B[1;31m# Validate or convert input data\u001B[0m\u001B[1;33m\u001B[0m\u001B[1;33m\u001B[0m\u001B[0m\n\u001B[0;32m    360\u001B[0m         \u001B[1;32mif\u001B[0m \u001B[0missparse\u001B[0m\u001B[1;33m(\u001B[0m\u001B[0my\u001B[0m\u001B[1;33m)\u001B[0m\u001B[1;33m:\u001B[0m\u001B[1;33m\u001B[0m\u001B[1;33m\u001B[0m\u001B[0m\n\u001B[0;32m    361\u001B[0m             \u001B[1;32mraise\u001B[0m \u001B[0mValueError\u001B[0m\u001B[1;33m(\u001B[0m\u001B[1;34m\"sparse multilabel-indicator for y is not supported.\"\u001B[0m\u001B[1;33m)\u001B[0m\u001B[1;33m\u001B[0m\u001B[1;33m\u001B[0m\u001B[0m\n\u001B[0;32m    362\u001B[0m \u001B[1;33m\u001B[0m\u001B[0m\n\u001B[1;32m--> 363\u001B[1;33m         X, y = self._validate_data(\n\u001B[0m\u001B[0;32m    364\u001B[0m             \u001B[0mX\u001B[0m\u001B[1;33m,\u001B[0m\u001B[1;33m\u001B[0m\u001B[1;33m\u001B[0m\u001B[0m\n\u001B[0;32m    365\u001B[0m             \u001B[0my\u001B[0m\u001B[1;33m,\u001B[0m\u001B[1;33m\u001B[0m\u001B[1;33m\u001B[0m\u001B[0m\n\u001B[0;32m    366\u001B[0m             \u001B[0mmulti_output\u001B[0m\u001B[1;33m=\u001B[0m\u001B[1;32mTrue\u001B[0m\u001B[1;33m,\u001B[0m\u001B[1;33m\u001B[0m\u001B[1;33m\u001B[0m\u001B[0m\n",
      "\u001B[1;32m~\\PycharmProjects\\Kaggle\\.venv\\lib\\site-packages\\sklearn\\base.py\u001B[0m in \u001B[0;36m?\u001B[1;34m(self, X, y, reset, validate_separately, cast_to_ndarray, **check_params)\u001B[0m\n\u001B[0;32m    646\u001B[0m                 \u001B[1;32mif\u001B[0m \u001B[1;34m\"estimator\"\u001B[0m \u001B[1;32mnot\u001B[0m \u001B[1;32min\u001B[0m \u001B[0mcheck_y_params\u001B[0m\u001B[1;33m:\u001B[0m\u001B[1;33m\u001B[0m\u001B[1;33m\u001B[0m\u001B[0m\n\u001B[0;32m    647\u001B[0m                     \u001B[0mcheck_y_params\u001B[0m \u001B[1;33m=\u001B[0m \u001B[1;33m{\u001B[0m\u001B[1;33m**\u001B[0m\u001B[0mdefault_check_params\u001B[0m\u001B[1;33m,\u001B[0m \u001B[1;33m**\u001B[0m\u001B[0mcheck_y_params\u001B[0m\u001B[1;33m}\u001B[0m\u001B[1;33m\u001B[0m\u001B[1;33m\u001B[0m\u001B[0m\n\u001B[0;32m    648\u001B[0m                 \u001B[0my\u001B[0m \u001B[1;33m=\u001B[0m \u001B[0mcheck_array\u001B[0m\u001B[1;33m(\u001B[0m\u001B[0my\u001B[0m\u001B[1;33m,\u001B[0m \u001B[0minput_name\u001B[0m\u001B[1;33m=\u001B[0m\u001B[1;34m\"y\"\u001B[0m\u001B[1;33m,\u001B[0m \u001B[1;33m**\u001B[0m\u001B[0mcheck_y_params\u001B[0m\u001B[1;33m)\u001B[0m\u001B[1;33m\u001B[0m\u001B[1;33m\u001B[0m\u001B[0m\n\u001B[0;32m    649\u001B[0m             \u001B[1;32melse\u001B[0m\u001B[1;33m:\u001B[0m\u001B[1;33m\u001B[0m\u001B[1;33m\u001B[0m\u001B[0m\n\u001B[1;32m--> 650\u001B[1;33m                 \u001B[0mX\u001B[0m\u001B[1;33m,\u001B[0m \u001B[0my\u001B[0m \u001B[1;33m=\u001B[0m \u001B[0mcheck_X_y\u001B[0m\u001B[1;33m(\u001B[0m\u001B[0mX\u001B[0m\u001B[1;33m,\u001B[0m \u001B[0my\u001B[0m\u001B[1;33m,\u001B[0m \u001B[1;33m**\u001B[0m\u001B[0mcheck_params\u001B[0m\u001B[1;33m)\u001B[0m\u001B[1;33m\u001B[0m\u001B[1;33m\u001B[0m\u001B[0m\n\u001B[0m\u001B[0;32m    651\u001B[0m             \u001B[0mout\u001B[0m \u001B[1;33m=\u001B[0m \u001B[0mX\u001B[0m\u001B[1;33m,\u001B[0m \u001B[0my\u001B[0m\u001B[1;33m\u001B[0m\u001B[1;33m\u001B[0m\u001B[0m\n\u001B[0;32m    652\u001B[0m \u001B[1;33m\u001B[0m\u001B[0m\n\u001B[0;32m    653\u001B[0m         \u001B[1;32mif\u001B[0m \u001B[1;32mnot\u001B[0m \u001B[0mno_val_X\u001B[0m \u001B[1;32mand\u001B[0m \u001B[0mcheck_params\u001B[0m\u001B[1;33m.\u001B[0m\u001B[0mget\u001B[0m\u001B[1;33m(\u001B[0m\u001B[1;34m\"ensure_2d\"\u001B[0m\u001B[1;33m,\u001B[0m \u001B[1;32mTrue\u001B[0m\u001B[1;33m)\u001B[0m\u001B[1;33m:\u001B[0m\u001B[1;33m\u001B[0m\u001B[1;33m\u001B[0m\u001B[0m\n",
      "\u001B[1;32m~\\PycharmProjects\\Kaggle\\.venv\\lib\\site-packages\\sklearn\\utils\\validation.py\u001B[0m in \u001B[0;36m?\u001B[1;34m(X, y, accept_sparse, accept_large_sparse, dtype, order, copy, force_all_finite, ensure_2d, allow_nd, multi_output, ensure_min_samples, ensure_min_features, y_numeric, estimator)\u001B[0m\n\u001B[0;32m   1259\u001B[0m         raise ValueError(\n\u001B[0;32m   1260\u001B[0m             \u001B[1;34mf\"{estimator_name} requires y to be passed, but the target y is None\"\u001B[0m\u001B[1;33m\u001B[0m\u001B[1;33m\u001B[0m\u001B[0m\n\u001B[0;32m   1261\u001B[0m         )\n\u001B[0;32m   1262\u001B[0m \u001B[1;33m\u001B[0m\u001B[0m\n\u001B[1;32m-> 1263\u001B[1;33m     X = check_array(\n\u001B[0m\u001B[0;32m   1264\u001B[0m         \u001B[0mX\u001B[0m\u001B[1;33m,\u001B[0m\u001B[1;33m\u001B[0m\u001B[1;33m\u001B[0m\u001B[0m\n\u001B[0;32m   1265\u001B[0m         \u001B[0maccept_sparse\u001B[0m\u001B[1;33m=\u001B[0m\u001B[0maccept_sparse\u001B[0m\u001B[1;33m,\u001B[0m\u001B[1;33m\u001B[0m\u001B[1;33m\u001B[0m\u001B[0m\n\u001B[0;32m   1266\u001B[0m         \u001B[0maccept_large_sparse\u001B[0m\u001B[1;33m=\u001B[0m\u001B[0maccept_large_sparse\u001B[0m\u001B[1;33m,\u001B[0m\u001B[1;33m\u001B[0m\u001B[1;33m\u001B[0m\u001B[0m\n",
      "\u001B[1;32m~\\PycharmProjects\\Kaggle\\.venv\\lib\\site-packages\\sklearn\\utils\\validation.py\u001B[0m in \u001B[0;36m?\u001B[1;34m(array, accept_sparse, accept_large_sparse, dtype, order, copy, force_all_finite, ensure_2d, allow_nd, ensure_min_samples, ensure_min_features, estimator, input_name)\u001B[0m\n\u001B[0;32m    995\u001B[0m                     \u001B[0marray\u001B[0m \u001B[1;33m=\u001B[0m \u001B[0mxp\u001B[0m\u001B[1;33m.\u001B[0m\u001B[0mastype\u001B[0m\u001B[1;33m(\u001B[0m\u001B[0marray\u001B[0m\u001B[1;33m,\u001B[0m \u001B[0mdtype\u001B[0m\u001B[1;33m,\u001B[0m \u001B[0mcopy\u001B[0m\u001B[1;33m=\u001B[0m\u001B[1;32mFalse\u001B[0m\u001B[1;33m)\u001B[0m\u001B[1;33m\u001B[0m\u001B[1;33m\u001B[0m\u001B[0m\n\u001B[0;32m    996\u001B[0m                 \u001B[1;32melse\u001B[0m\u001B[1;33m:\u001B[0m\u001B[1;33m\u001B[0m\u001B[1;33m\u001B[0m\u001B[0m\n\u001B[0;32m    997\u001B[0m                     \u001B[0marray\u001B[0m \u001B[1;33m=\u001B[0m \u001B[0m_asarray_with_order\u001B[0m\u001B[1;33m(\u001B[0m\u001B[0marray\u001B[0m\u001B[1;33m,\u001B[0m \u001B[0morder\u001B[0m\u001B[1;33m=\u001B[0m\u001B[0morder\u001B[0m\u001B[1;33m,\u001B[0m \u001B[0mdtype\u001B[0m\u001B[1;33m=\u001B[0m\u001B[0mdtype\u001B[0m\u001B[1;33m,\u001B[0m \u001B[0mxp\u001B[0m\u001B[1;33m=\u001B[0m\u001B[0mxp\u001B[0m\u001B[1;33m)\u001B[0m\u001B[1;33m\u001B[0m\u001B[1;33m\u001B[0m\u001B[0m\n\u001B[0;32m    998\u001B[0m             \u001B[1;32mexcept\u001B[0m \u001B[0mComplexWarning\u001B[0m \u001B[1;32mas\u001B[0m \u001B[0mcomplex_warning\u001B[0m\u001B[1;33m:\u001B[0m\u001B[1;33m\u001B[0m\u001B[1;33m\u001B[0m\u001B[0m\n\u001B[1;32m--> 999\u001B[1;33m                 raise ValueError(\n\u001B[0m\u001B[0;32m   1000\u001B[0m                     \u001B[1;34m\"Complex data not supported\\n{}\\n\"\u001B[0m\u001B[1;33m.\u001B[0m\u001B[0mformat\u001B[0m\u001B[1;33m(\u001B[0m\u001B[0marray\u001B[0m\u001B[1;33m)\u001B[0m\u001B[1;33m\u001B[0m\u001B[1;33m\u001B[0m\u001B[0m\n\u001B[0;32m   1001\u001B[0m                 ) from complex_warning\n\u001B[0;32m   1002\u001B[0m \u001B[1;33m\u001B[0m\u001B[0m\n",
      "\u001B[1;32m~\\PycharmProjects\\Kaggle\\.venv\\lib\\site-packages\\sklearn\\utils\\_array_api.py\u001B[0m in \u001B[0;36m?\u001B[1;34m(array, dtype, order, copy, xp)\u001B[0m\n\u001B[0;32m    517\u001B[0m         \u001B[1;31m# Use NumPy API to support order\u001B[0m\u001B[1;33m\u001B[0m\u001B[1;33m\u001B[0m\u001B[0m\n\u001B[0;32m    518\u001B[0m         \u001B[1;32mif\u001B[0m \u001B[0mcopy\u001B[0m \u001B[1;32mis\u001B[0m \u001B[1;32mTrue\u001B[0m\u001B[1;33m:\u001B[0m\u001B[1;33m\u001B[0m\u001B[1;33m\u001B[0m\u001B[0m\n\u001B[0;32m    519\u001B[0m             \u001B[0marray\u001B[0m \u001B[1;33m=\u001B[0m \u001B[0mnumpy\u001B[0m\u001B[1;33m.\u001B[0m\u001B[0marray\u001B[0m\u001B[1;33m(\u001B[0m\u001B[0marray\u001B[0m\u001B[1;33m,\u001B[0m \u001B[0morder\u001B[0m\u001B[1;33m=\u001B[0m\u001B[0morder\u001B[0m\u001B[1;33m,\u001B[0m \u001B[0mdtype\u001B[0m\u001B[1;33m=\u001B[0m\u001B[0mdtype\u001B[0m\u001B[1;33m)\u001B[0m\u001B[1;33m\u001B[0m\u001B[1;33m\u001B[0m\u001B[0m\n\u001B[0;32m    520\u001B[0m         \u001B[1;32melse\u001B[0m\u001B[1;33m:\u001B[0m\u001B[1;33m\u001B[0m\u001B[1;33m\u001B[0m\u001B[0m\n\u001B[1;32m--> 521\u001B[1;33m             \u001B[0marray\u001B[0m \u001B[1;33m=\u001B[0m \u001B[0mnumpy\u001B[0m\u001B[1;33m.\u001B[0m\u001B[0masarray\u001B[0m\u001B[1;33m(\u001B[0m\u001B[0marray\u001B[0m\u001B[1;33m,\u001B[0m \u001B[0morder\u001B[0m\u001B[1;33m=\u001B[0m\u001B[0morder\u001B[0m\u001B[1;33m,\u001B[0m \u001B[0mdtype\u001B[0m\u001B[1;33m=\u001B[0m\u001B[0mdtype\u001B[0m\u001B[1;33m)\u001B[0m\u001B[1;33m\u001B[0m\u001B[1;33m\u001B[0m\u001B[0m\n\u001B[0m\u001B[0;32m    522\u001B[0m \u001B[1;33m\u001B[0m\u001B[0m\n\u001B[0;32m    523\u001B[0m         \u001B[1;31m# At this point array is a NumPy ndarray. We convert it to an array\u001B[0m\u001B[1;33m\u001B[0m\u001B[1;33m\u001B[0m\u001B[0m\n\u001B[0;32m    524\u001B[0m         \u001B[1;31m# container that is consistent with the input's namespace.\u001B[0m\u001B[1;33m\u001B[0m\u001B[1;33m\u001B[0m\u001B[0m\n",
      "\u001B[1;32m~\\PycharmProjects\\Kaggle\\.venv\\lib\\site-packages\\pandas\\core\\generic.py\u001B[0m in \u001B[0;36m?\u001B[1;34m(self, dtype)\u001B[0m\n\u001B[0;32m   2148\u001B[0m     \u001B[1;32mdef\u001B[0m \u001B[0m__array__\u001B[0m\u001B[1;33m(\u001B[0m\u001B[0mself\u001B[0m\u001B[1;33m,\u001B[0m \u001B[0mdtype\u001B[0m\u001B[1;33m:\u001B[0m \u001B[0mnpt\u001B[0m\u001B[1;33m.\u001B[0m\u001B[0mDTypeLike\u001B[0m \u001B[1;33m|\u001B[0m \u001B[1;32mNone\u001B[0m \u001B[1;33m=\u001B[0m \u001B[1;32mNone\u001B[0m\u001B[1;33m)\u001B[0m \u001B[1;33m->\u001B[0m \u001B[0mnp\u001B[0m\u001B[1;33m.\u001B[0m\u001B[0mndarray\u001B[0m\u001B[1;33m:\u001B[0m\u001B[1;33m\u001B[0m\u001B[1;33m\u001B[0m\u001B[0m\n\u001B[0;32m   2149\u001B[0m         \u001B[0mvalues\u001B[0m \u001B[1;33m=\u001B[0m \u001B[0mself\u001B[0m\u001B[1;33m.\u001B[0m\u001B[0m_values\u001B[0m\u001B[1;33m\u001B[0m\u001B[1;33m\u001B[0m\u001B[0m\n\u001B[1;32m-> 2150\u001B[1;33m         \u001B[0marr\u001B[0m \u001B[1;33m=\u001B[0m \u001B[0mnp\u001B[0m\u001B[1;33m.\u001B[0m\u001B[0masarray\u001B[0m\u001B[1;33m(\u001B[0m\u001B[0mvalues\u001B[0m\u001B[1;33m,\u001B[0m \u001B[0mdtype\u001B[0m\u001B[1;33m=\u001B[0m\u001B[0mdtype\u001B[0m\u001B[1;33m)\u001B[0m\u001B[1;33m\u001B[0m\u001B[1;33m\u001B[0m\u001B[0m\n\u001B[0m\u001B[0;32m   2151\u001B[0m         if (\n\u001B[0;32m   2152\u001B[0m             \u001B[0mastype_is_view\u001B[0m\u001B[1;33m(\u001B[0m\u001B[0mvalues\u001B[0m\u001B[1;33m.\u001B[0m\u001B[0mdtype\u001B[0m\u001B[1;33m,\u001B[0m \u001B[0marr\u001B[0m\u001B[1;33m.\u001B[0m\u001B[0mdtype\u001B[0m\u001B[1;33m)\u001B[0m\u001B[1;33m\u001B[0m\u001B[1;33m\u001B[0m\u001B[0m\n\u001B[0;32m   2153\u001B[0m             \u001B[1;32mand\u001B[0m \u001B[0musing_copy_on_write\u001B[0m\u001B[1;33m(\u001B[0m\u001B[1;33m)\u001B[0m\u001B[1;33m\u001B[0m\u001B[1;33m\u001B[0m\u001B[0m\n",
      "\u001B[1;31mValueError\u001B[0m: could not convert string to float: 'Z'"
     ]
    }
   ],
   "source": [
    "rcf = RandomForestRegressor()\n",
    "rcf.fit(X_train, y_train)\n",
    "base_score = rcf.score(X_test, y_test)\n",
    "\n",
    "# boruta_selector = BorutaPy(rcf, n_estimators='auto', verbose=2)\n",
    "# boruta_selector.fit(np.array(X_train), np.array(y_train))\n",
    "# \n",
    "# X_train = boruta_selector.transform(np.array(X_train))\n",
    "# X_test = boruta_selector.transform(np.array(X_test))\n",
    "# rcf = xgboost.XGBRegressor()\n",
    "# rcf.fit(X_train, y_train)\n",
    "# new_score = rcf.score(X_test, y_test)\n",
    "# change = (new_score - base_score)*100 / base_score\n",
    "# print(f'Your model accuracy has been affect by {change} percent')"
   ],
   "metadata": {
    "collapsed": false,
    "ExecuteTime": {
     "end_time": "2024-03-04T20:29:53.828065800Z",
     "start_time": "2024-03-04T20:29:53.711546300Z"
    }
   },
   "id": "6d04a1e440632b86",
   "execution_count": 16
  }
 ],
 "metadata": {
  "kernelspec": {
   "display_name": "Python 3",
   "language": "python",
   "name": "python3"
  },
  "language_info": {
   "codemirror_mode": {
    "name": "ipython",
    "version": 2
   },
   "file_extension": ".py",
   "mimetype": "text/x-python",
   "name": "python",
   "nbconvert_exporter": "python",
   "pygments_lexer": "ipython2",
   "version": "2.7.6"
  }
 },
 "nbformat": 4,
 "nbformat_minor": 5
}
